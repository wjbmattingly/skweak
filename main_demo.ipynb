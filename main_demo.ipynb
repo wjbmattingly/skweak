{
 "cells": [
  {
   "cell_type": "code",
   "execution_count": 21,
   "id": "0019ab7d-5b8a-474f-bb60-6fe0fcc67d36",
   "metadata": {},
   "outputs": [],
   "source": [
    "import spacy, re\n",
    "from skweak import heuristics, gazetteers, generative, utils\n",
    "import tarfile\n",
    "import skweak"
   ]
  },
  {
   "cell_type": "code",
   "execution_count": 2,
   "id": "85fb29ff-fec5-49fe-b9e6-84dfd723697e",
   "metadata": {},
   "outputs": [
    {
     "name": "stdout",
     "output_type": "stream",
     "text": [
      "195\n"
     ]
    }
   ],
   "source": [
    "# We retrieve the texts\n",
    "texts = [] \n",
    "archive_file = tarfile.open(\"data/reuters_small.tar.gz\")\n",
    "for archive_member in archive_file.getnames():\n",
    "    if archive_member.endswith(\".txt\"):\n",
    "        text = archive_file.extractfile(archive_member).read().decode(\"utf8\")\n",
    "        texts.append(text)\n",
    "print (len(texts))"
   ]
  },
  {
   "cell_type": "code",
   "execution_count": 18,
   "id": "26a1a03b-9859-4be4-9a3f-ca07edf93f38",
   "metadata": {},
   "outputs": [
    {
     "name": "stdout",
     "output_type": "stream",
     "text": [
      "Extracting data from data/crunchbase_companies.json.gz\n",
      "Populating trie for class COMPANY (number: 539174)\n",
      "Starting iteration 1\n",
      "Finished E-step with 195 documents\n",
      "Starting iteration 2\n"
     ]
    },
    {
     "name": "stderr",
     "output_type": "stream",
     "text": [
      "         1      -18260.5264             +nan\n"
     ]
    },
    {
     "name": "stdout",
     "output_type": "stream",
     "text": [
      "Finished E-step with 195 documents\n",
      "Starting iteration 3\n"
     ]
    },
    {
     "name": "stderr",
     "output_type": "stream",
     "text": [
      "         2      -17418.8139        +841.7125\n"
     ]
    },
    {
     "name": "stdout",
     "output_type": "stream",
     "text": [
      "Finished E-step with 195 documents\n",
      "Starting iteration 4\n"
     ]
    },
    {
     "name": "stderr",
     "output_type": "stream",
     "text": [
      "         3      -17402.2269         +16.5870\n"
     ]
    },
    {
     "name": "stdout",
     "output_type": "stream",
     "text": [
      "Finished E-step with 195 documents\n"
     ]
    },
    {
     "name": "stderr",
     "output_type": "stream",
     "text": [
      "         4      -17393.2608          +8.9661\n"
     ]
    },
    {
     "data": {
      "text/html": [
       "<span class=\"tex2jax_ignore\"><div class=\"entities\" style=\"line-height: 2.5; direction: ltr\">Best buy offers used iPhones at lower price</br>ATLANTA (\n",
       "<mark class=\"entity\" style=\"background: #ddd; padding: 0.45em 0.6em; margin: 0 0.25em; line-height: 1; border-radius: 0.35em;\">\n",
       "    Reuters\n",
       "    <span style=\"font-size: 0.8em; font-weight: bold; line-height: 1; border-radius: 0.35em; vertical-align: middle; margin-left: 0.5rem\">COMPANY</span>\n",
       "</mark>\n",
       ") - Retailer Best Buy Co, seeking new ways to appeal to cost-conscious shoppers, said on Tuesday it is selling refurbished versions of Apple Inc's iPhone 3G at its stores that are priced about \n",
       "<mark class=\"entity\" style=\"background: #e4e7d2; padding: 0.45em 0.6em; margin: 0 0.25em; line-height: 1; border-radius: 0.35em;\">\n",
       "    $50\n",
       "    <span style=\"font-size: 0.8em; font-weight: bold; line-height: 1; border-radius: 0.35em; vertical-align: middle; margin-left: 0.5rem\">MONEY</span>\n",
       "</mark>\n",
       " less than new iPhones. The electronics chain said the used iPhones, which were returned within 30 days of purchase, are priced at \n",
       "<mark class=\"entity\" style=\"background: #e4e7d2; padding: 0.45em 0.6em; margin: 0 0.25em; line-height: 1; border-radius: 0.35em;\">\n",
       "    $149\n",
       "    <span style=\"font-size: 0.8em; font-weight: bold; line-height: 1; border-radius: 0.35em; vertical-align: middle; margin-left: 0.5rem\">MONEY</span>\n",
       "</mark>\n",
       " for the model with 8 gigabytes of storage, while the 16-gigabyte version is \n",
       "<mark class=\"entity\" style=\"background: #e4e7d2; padding: 0.45em 0.6em; margin: 0 0.25em; line-height: 1; border-radius: 0.35em;\">\n",
       "    $249\n",
       "    <span style=\"font-size: 0.8em; font-weight: bold; line-height: 1; border-radius: 0.35em; vertical-align: middle; margin-left: 0.5rem\">MONEY</span>\n",
       "</mark>\n",
       ". A two-year service contract with AT&amp;T Inc is required. New iPhone 3Gs currently sell for \n",
       "<mark class=\"entity\" style=\"background: #e4e7d2; padding: 0.45em 0.6em; margin: 0 0.25em; line-height: 1; border-radius: 0.35em;\">\n",
       "    $199\n",
       "    <span style=\"font-size: 0.8em; font-weight: bold; line-height: 1; border-radius: 0.35em; vertical-align: middle; margin-left: 0.5rem\">MONEY</span>\n",
       "</mark>\n",
       " and \n",
       "<mark class=\"entity\" style=\"background: #e4e7d2; padding: 0.45em 0.6em; margin: 0 0.25em; line-height: 1; border-radius: 0.35em;\">\n",
       "    $299\n",
       "    <span style=\"font-size: 0.8em; font-weight: bold; line-height: 1; border-radius: 0.35em; vertical-align: middle; margin-left: 0.5rem\">MONEY</span>\n",
       "</mark>\n",
       " at Best Buy Mobile stores. &quot;This is focusing on customers' needs, trying to provide as wide a range of products and networks for our consumers,&quot; said Scott Moore, vice president of marketing for Best Buy Mobile. Buyers of first-generation iPhones can also upgrade to the faster refurbished 3G models at \n",
       "<mark class=\"entity\" style=\"background: #ddd; padding: 0.45em 0.6em; margin: 0 0.25em; line-height: 1; border-radius: 0.35em;\">\n",
       "    Best Buy\n",
       "    <span style=\"font-size: 0.8em; font-weight: bold; line-height: 1; border-radius: 0.35em; vertical-align: middle; margin-left: 0.5rem\">COMPANY</span>\n",
       "</mark>\n",
       ", he said. \n",
       "<mark class=\"entity\" style=\"background: #ddd; padding: 0.45em 0.6em; margin: 0 0.25em; line-height: 1; border-radius: 0.35em;\">\n",
       "    Moore\n",
       "    <span style=\"font-size: 0.8em; font-weight: bold; line-height: 1; border-radius: 0.35em; vertical-align: middle; margin-left: 0.5rem\">COMPANY</span>\n",
       "</mark>\n",
       " said \n",
       "<mark class=\"entity\" style=\"background: #ddd; padding: 0.45em 0.6em; margin: 0 0.25em; line-height: 1; border-radius: 0.35em;\">\n",
       "    AT&amp;T\n",
       "    <span style=\"font-size: 0.8em; font-weight: bold; line-height: 1; border-radius: 0.35em; vertical-align: middle; margin-left: 0.5rem\">COMPANY</span>\n",
       "</mark>\n",
       ", the exclusive wireless provider for the iPhone, offers refurbished iPhones online. The sale of used iPhones comes as \n",
       "<mark class=\"entity\" style=\"background: #ddd; padding: 0.45em 0.6em; margin: 0 0.25em; line-height: 1; border-radius: 0.35em;\">\n",
       "    Best Buy\n",
       "    <span style=\"font-size: 0.8em; font-weight: bold; line-height: 1; border-radius: 0.35em; vertical-align: middle; margin-left: 0.5rem\">COMPANY</span>\n",
       "</mark>\n",
       ", the top consumer electronics chain, seeks ways to fend off increased competition from discounters such as Wal-Mart Stores Inc, which began selling the popular phone late last month. Wal-Mart sells a new 8-gigabyte iPhone 3G for \n",
       "<mark class=\"entity\" style=\"background: #e4e7d2; padding: 0.45em 0.6em; margin: 0 0.25em; line-height: 1; border-radius: 0.35em;\">\n",
       "    $197\n",
       "    <span style=\"font-size: 0.8em; font-weight: bold; line-height: 1; border-radius: 0.35em; vertical-align: middle; margin-left: 0.5rem\">MONEY</span>\n",
       "</mark>\n",
       " and \n",
       "<mark class=\"entity\" style=\"background: #e4e7d2; padding: 0.45em 0.6em; margin: 0 0.25em; line-height: 1; border-radius: 0.35em;\">\n",
       "    $297\n",
       "    <span style=\"font-size: 0.8em; font-weight: bold; line-height: 1; border-radius: 0.35em; vertical-align: middle; margin-left: 0.5rem\">MONEY</span>\n",
       "</mark>\n",
       " for the 16-gigabyte model. The iPhone is also sold at \n",
       "<mark class=\"entity\" style=\"background: #ddd; padding: 0.45em 0.6em; margin: 0 0.25em; line-height: 1; border-radius: 0.35em;\">\n",
       "    Apple\n",
       "    <span style=\"font-size: 0.8em; font-weight: bold; line-height: 1; border-radius: 0.35em; vertical-align: middle; margin-left: 0.5rem\">COMPANY</span>\n",
       "</mark>\n",
       " stores and \n",
       "<mark class=\"entity\" style=\"background: #ddd; padding: 0.45em 0.6em; margin: 0 0.25em; line-height: 1; border-radius: 0.35em;\">\n",
       "    AT&amp;T\n",
       "    <span style=\"font-size: 0.8em; font-weight: bold; line-height: 1; border-radius: 0.35em; vertical-align: middle; margin-left: 0.5rem\">COMPANY</span>\n",
       "</mark>\n",
       " stores. \n",
       "<mark class=\"entity\" style=\"background: #ddd; padding: 0.45em 0.6em; margin: 0 0.25em; line-height: 1; border-radius: 0.35em;\">\n",
       "    Moore\n",
       "    <span style=\"font-size: 0.8em; font-weight: bold; line-height: 1; border-radius: 0.35em; vertical-align: middle; margin-left: 0.5rem\">COMPANY</span>\n",
       "</mark>\n",
       " said \n",
       "<mark class=\"entity\" style=\"background: #ddd; padding: 0.45em 0.6em; margin: 0 0.25em; line-height: 1; border-radius: 0.35em;\">\n",
       "    Best Buy\n",
       "    <span style=\"font-size: 0.8em; font-weight: bold; line-height: 1; border-radius: 0.35em; vertical-align: middle; margin-left: 0.5rem\">COMPANY</span>\n",
       "</mark>\n",
       "'s move was not in response to other retailers' actions. </div></span>"
      ],
      "text/plain": [
       "<IPython.core.display.HTML object>"
      ]
     },
     "metadata": {},
     "output_type": "display_data"
    }
   ],
   "source": [
    "# LF 1: heuristic to detect occurrences of MONEY entities\n",
    "def money_detector(doc):\n",
    "   for tok in doc[1:]:\n",
    "      if tok.text[0].isdigit() and tok.nbor(-1).is_currency:\n",
    "          yield tok.i-1, tok.i+1, \"MONEY\"\n",
    "lf1 = heuristics.FunctionAnnotator(\"money\", money_detector)\n",
    "\n",
    "# LF 2: detection of years with a regex\n",
    "lf2= heuristics.TokenConstraintAnnotator(\"years\", lambda tok: re.match(\"(19|20)\\d{2}$\", \n",
    "                                                  tok.text), \"DATE\")\n",
    "\n",
    "\n",
    "\n",
    "\n",
    "tries = gazetteers.extract_json_data(\"data/crunchbase_companies.json.gz\")\n",
    "lf3 = gazetteers.GazetteerAnnotator(\"gazetteer\", tries)\n",
    "\n",
    "# We run spacy on the texts    \n",
    "nlp = spacy.load(\"en_core_web_sm\", disable=[\"ner\", \"lemmatizer\"])\n",
    "docs = list(nlp.pipe(texts))\n",
    "\n",
    "new_docs = []\n",
    "for doc in docs:\n",
    "    new_doc = lf3(lf2(lf1(doc)))\n",
    "    new_docs.append(new_doc)\n",
    "\n",
    "# create and fit the HMM aggregation model\n",
    "hmm = generative.HMM(\"hmm\", [\"DATE\", \"MONEY\", \"COMPANY\"])\n",
    "hmm.fit(new_docs)\n",
    "\n",
    "# once fitted, we simply apply the model to aggregate all functions\n",
    "doc = hmm(new_docs[0])\n",
    "\n",
    "# we can then visualise the final result (in Jupyter)\n",
    "utils.display_entities(doc, \"hmm\")"
   ]
  },
  {
   "cell_type": "code",
   "execution_count": 22,
   "id": "df9eaa1e-9e66-4746-98d1-b45532fc568e",
   "metadata": {},
   "outputs": [
    {
     "name": "stdout",
     "output_type": "stream",
     "text": [
      "Starting iteration 1\n",
      "Finished E-step with 195 documents\n",
      "Starting iteration 2\n"
     ]
    },
    {
     "name": "stderr",
     "output_type": "stream",
     "text": [
      "         1      -18260.5264             +nan\n"
     ]
    },
    {
     "name": "stdout",
     "output_type": "stream",
     "text": [
      "Finished E-step with 195 documents\n",
      "Starting iteration 3\n"
     ]
    },
    {
     "name": "stderr",
     "output_type": "stream",
     "text": [
      "         2      -17418.8139        +841.7125\n"
     ]
    },
    {
     "name": "stdout",
     "output_type": "stream",
     "text": [
      "Finished E-step with 195 documents\n",
      "Starting iteration 4\n"
     ]
    },
    {
     "name": "stderr",
     "output_type": "stream",
     "text": [
      "         3      -17402.2269         +16.5870\n"
     ]
    },
    {
     "name": "stdout",
     "output_type": "stream",
     "text": [
      "Finished E-step with 195 documents\n"
     ]
    },
    {
     "name": "stderr",
     "output_type": "stream",
     "text": [
      "         4      -17393.2608          +8.9661\n"
     ]
    }
   ],
   "source": [
    "# We define the aggregation model\n",
    "model = skweak.aggregation.HMM(\"hmm\", [\"COMPANY\", \"DATE\", \"MONEY\"])\n",
    "\n",
    "# And run the estimation\n",
    "docs = model.fit_and_aggregate(new_docs)"
   ]
  },
  {
   "cell_type": "code",
   "execution_count": 23,
   "id": "3ccbc295-5c91-4ab5-882f-c1d46d8a82e0",
   "metadata": {},
   "outputs": [
    {
     "name": "stdout",
     "output_type": "stream",
     "text": [
      "Write to data/reuters_small.spacy...done\n"
     ]
    }
   ],
   "source": [
    "for doc in new_docs:\n",
    "    doc.ents = doc.spans[\"hmm\"]\n",
    "utils.docbin_writer(docs, \"data/reuters_small.spacy\")"
   ]
  },
  {
   "cell_type": "code",
   "execution_count": 26,
   "id": "e836b8fa-9d35-4494-ae24-81d9ed1585cf",
   "metadata": {},
   "outputs": [
    {
     "data": {
      "text/html": [
       "<span class=\"tex2jax_ignore\"><div class=\"entities\" style=\"line-height: 2.5; direction: ltr\">BlackRock's Doll sees solid 2009 U.S. stocks gains</br>NEW YORK (\n",
       "<mark class=\"entity\" style=\"background: #ddd; padding: 0.45em 0.6em; margin: 0 0.25em; line-height: 1; border-radius: 0.35em;\">\n",
       "    Reuters\n",
       "    <span style=\"font-size: 0.8em; font-weight: bold; line-height: 1; border-radius: 0.35em; vertical-align: middle; margin-left: 0.5rem\">COMPANY</span>\n",
       "</mark>\n",
       ") - The U.S. stock market could gain as much 12 percent in 2009 from current levels, despite a recession that will last at least into the first half of the year, a top executive with asset manager BlackRock said on Tuesday. Robert Doll, chief investment officer of global equities at the largest publicly traded U.S. asset manager, said the \n",
       "<mark class=\"entity\" style=\"background: #ddd; padding: 0.45em 0.6em; margin: 0 0.25em; line-height: 1; border-radius: 0.35em;\">\n",
       "    Standard\n",
       "    <span style=\"font-size: 0.8em; font-weight: bold; line-height: 1; border-radius: 0.35em; vertical-align: middle; margin-left: 0.5rem\">COMPANY</span>\n",
       "</mark>\n",
       " &amp; Poor's 500 .SPX could hit 1,000 to 1,050 by year-end, and emerging market equities would fare even better. &quot;With record fiscal and monetary stimulus, substantially lower oil prices, much cheaper valuations, significant negative sentiment and lots of cash on the sidelines, it is likely that stocks will begin to look 'over the valley' sometime in 2009 and experience a noticeable rally,&quot; Doll said at a press briefing. The bottoming process for U.S. equity markets began on October 10, 2008, when the S&amp;P 500 closed below 900, and was confirmed by a second market low on November 21, when the S&amp;P hit an 11-year low, Doll said. Any economic recovery, however, will likely be muted and market volatility will continue throughout 2009, Doll said. &quot;We should see multiple-digit percent rallies as well as declines all through the year&quot; in U.S. stocks, he said. Doll expects global economic growth to be below 2 percent this year for the first time since 1991, and U.S. gross domestic product to be negative for at least the first half of 2009, which would mark the longest and deepest U.S. recession in more than 50 years. U.S. STOCKS \n",
       "<mark class=\"entity\" style=\"background: #ddd; padding: 0.45em 0.6em; margin: 0 0.25em; line-height: 1; border-radius: 0.35em;\">\n",
       "    SEEN\n",
       "    <span style=\"font-size: 0.8em; font-weight: bold; line-height: 1; border-radius: 0.35em; vertical-align: middle; margin-left: 0.5rem\">COMPANY</span>\n",
       "</mark>\n",
       " BETTER VS EUROPE This year, U.S. equities should outperform European stocks, he said. A better capital situation in the U.S. and a slower policy response in Europe are among factors that will cause European equities to lag their U.S. counterparts, he said. Shares in emerging markets, in the meantime, are poised for a stronger rebound than those in developed markets due to a steeper drop in 2008 and a recovery from less painful, cyclical economic downturns rather than more severe, structural ones, he said. Among sectors, Doll sees energy, health care and technology outperforming utilities, financials and materials in 2009. &quot;From a sector standpoint, we prefer health care for defensiveness, information technology for some stability and some cyclicality, and energy for cyclicality and cheapness,&quot; he said. With an expected improvement in economic activity in the second half of 2009, Doll expects higher demand for commodities, with crude oil trading between \n",
       "<mark class=\"entity\" style=\"background: #e4e7d2; padding: 0.45em 0.6em; margin: 0 0.25em; line-height: 1; border-radius: 0.35em;\">\n",
       "    $60\n",
       "    <span style=\"font-size: 0.8em; font-weight: bold; line-height: 1; border-radius: 0.35em; vertical-align: middle; margin-left: 0.5rem\">MONEY</span>\n",
       "</mark>\n",
       " and \n",
       "<mark class=\"entity\" style=\"background: #e4e7d2; padding: 0.45em 0.6em; margin: 0 0.25em; line-height: 1; border-radius: 0.35em;\">\n",
       "    $80\n",
       "    <span style=\"font-size: 0.8em; font-weight: bold; line-height: 1; border-radius: 0.35em; vertical-align: middle; margin-left: 0.5rem\">MONEY</span>\n",
       "</mark>\n",
       " per barrel. In New York, crude futures were down 12 cents at \n",
       "<mark class=\"entity\" style=\"background: #e4e7d2; padding: 0.45em 0.6em; margin: 0 0.25em; line-height: 1; border-radius: 0.35em;\">\n",
       "    $48.69\n",
       "    <span style=\"font-size: 0.8em; font-weight: bold; line-height: 1; border-radius: 0.35em; vertical-align: middle; margin-left: 0.5rem\">MONEY</span>\n",
       "</mark>\n",
       " in midday trading on Tuesday, well below the record peak of about \n",
       "<mark class=\"entity\" style=\"background: #e4e7d2; padding: 0.45em 0.6em; margin: 0 0.25em; line-height: 1; border-radius: 0.35em;\">\n",
       "    $147\n",
       "    <span style=\"font-size: 0.8em; font-weight: bold; line-height: 1; border-radius: 0.35em; vertical-align: middle; margin-left: 0.5rem\">MONEY</span>\n",
       "</mark>\n",
       " set last July. The U.S. budget deficit is expected to rise above the \n",
       "<mark class=\"entity\" style=\"background: #e4e7d2; padding: 0.45em 0.6em; margin: 0 0.25em; line-height: 1; border-radius: 0.35em;\">\n",
       "    $1\n",
       "    <span style=\"font-size: 0.8em; font-weight: bold; line-height: 1; border-radius: 0.35em; vertical-align: middle; margin-left: 0.5rem\">MONEY</span>\n",
       "</mark>\n",
       " trillion mark in 2009, while the \n",
       "<mark class=\"entity\" style=\"background: #ddd; padding: 0.45em 0.6em; margin: 0 0.25em; line-height: 1; border-radius: 0.35em;\">\n",
       "    Treasury\n",
       "    <span style=\"font-size: 0.8em; font-weight: bold; line-height: 1; border-radius: 0.35em; vertical-align: middle; margin-left: 0.5rem\">COMPANY</span>\n",
       "</mark>\n",
       " market yield curve, or the gap of longer maturities' yields over shorter maturities, is expected to steepen through the end of the year, he said. Doll expects the yield spreads of corporate and municipal bonds over Treasuries will narrow this year as investors will likely tip-toe back into these riskier assets and away from low-risk Treasuries, whose yields are hovering at historic lows. &quot;As fear levels recede and confidence is slowly rebuilt, risky assets can begin to outperform safe assets once again,&quot; he said. </div></span>"
      ],
      "text/plain": [
       "<IPython.core.display.HTML object>"
      ]
     },
     "metadata": {},
     "output_type": "display_data"
    }
   ],
   "source": [
    "doc = hmm(docs[5])\n",
    "\n",
    "# we can then visualise the final result (in Jupyter)\n",
    "utils.display_entities(doc, \"hmm\")"
   ]
  },
  {
   "cell_type": "code",
   "execution_count": 29,
   "id": "b64448da-6092-4238-a263-37eeff25fdc2",
   "metadata": {},
   "outputs": [
    {
     "name": "stdout",
     "output_type": "stream",
     "text": [
      "Write to data/reuters_small.spacy...done\n"
     ]
    }
   ],
   "source": [
    "for doc in docs:\n",
    "    doc.ents = doc.spans[\"hmm\"]\n",
    "skweak.utils.docbin_writer(docs, \"data/reuters_small.spacy\")"
   ]
  },
  {
   "cell_type": "code",
   "execution_count": null,
   "id": "bbd891f0-e65b-43c6-9130-80e7dcf799af",
   "metadata": {},
   "outputs": [],
   "source": [
    "!spacy init config - --lang en --pipeline ner --optimize accuracy | \\\n",
    "spacy train - --paths.train data/reuters_small.spacy  --paths.dev data/reuters_small.spacy \\\n",
    "--initialize.vectors en_core_web_md --output data/reuters_small"
   ]
  },
  {
   "cell_type": "code",
   "execution_count": null,
   "id": "f05cee5b-9382-4b7f-b93a-5063a55259ce",
   "metadata": {},
   "outputs": [],
   "source": []
  }
 ],
 "metadata": {
  "kernelspec": {
   "display_name": "Python 3 (ipykernel)",
   "language": "python",
   "name": "python3"
  },
  "language_info": {
   "codemirror_mode": {
    "name": "ipython",
    "version": 3
   },
   "file_extension": ".py",
   "mimetype": "text/x-python",
   "name": "python",
   "nbconvert_exporter": "python",
   "pygments_lexer": "ipython3",
   "version": "3.9.12"
  }
 },
 "nbformat": 4,
 "nbformat_minor": 5
}
