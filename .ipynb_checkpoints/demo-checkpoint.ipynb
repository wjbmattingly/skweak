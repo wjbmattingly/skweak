{
 "cells": [
  {
   "cell_type": "code",
   "execution_count": 3,
   "id": "9ce01c76-a596-4cb3-b7a5-05f83ae0ce77",
   "metadata": {},
   "outputs": [],
   "source": [
    "import spacy, re\n",
    "from skweak import heuristics, gazetteers, generative, utils"
   ]
  },
  {
   "cell_type": "code",
   "execution_count": 7,
   "id": "d246b2c4-d598-44ab-8c43-faa7831f3754",
   "metadata": {},
   "outputs": [],
   "source": [
    "nlp = spacy.load(\"en_core_web_sm\")"
   ]
  },
  {
   "cell_type": "code",
   "execution_count": 38,
   "id": "7dd76d1d-6480-4e51-a0cd-aeee54dcd89c",
   "metadata": {},
   "outputs": [
    {
     "name": "stdout",
     "output_type": "stream",
     "text": [
      "Starting iteration 1\n",
      "Finished E-step with 10 documents\n",
      "Starting iteration 2\n",
      "Finished E-step with 10 documents\n",
      "Starting iteration 3\n",
      "Finished E-step with 10 documents\n"
     ]
    },
    {
     "name": "stderr",
     "output_type": "stream",
     "text": [
      "         1        -132.9156             +nan\n",
      "         2        -106.3309         +26.5847\n",
      "         3        -106.3309          +0.0000\n"
     ]
    },
    {
     "data": {
      "text/html": [
       "<span class=\"tex2jax_ignore\"><div class=\"entities\" style=\"line-height: 2.5; direction: ltr\">\n",
       "<mark class=\"entity\" style=\"background: #ddd; padding: 0.45em 0.6em; margin: 0 0.25em; line-height: 1; border-radius: 0.35em;\">\n",
       "    Mrs. Channel Darcy-Derby\n",
       "    <span style=\"font-size: 0.8em; font-weight: bold; line-height: 1; border-radius: 0.35em; vertical-align: middle; margin-left: 0.5rem\">WOMAN</span>\n",
       "</mark>\n",
       " is here. \n",
       "<mark class=\"entity\" style=\"background: #ddd; padding: 0.45em 0.6em; margin: 0 0.25em; line-height: 1; border-radius: 0.35em;\">\n",
       "    Miss Smith\n",
       "    <span style=\"font-size: 0.8em; font-weight: bold; line-height: 1; border-radius: 0.35em; vertical-align: middle; margin-left: 0.5rem\">WOMAN</span>\n",
       "</mark>\n",
       " is not, though. \n",
       "<mark class=\"entity\" style=\"background: #ddd; padding: 0.45em 0.6em; margin: 0 0.25em; line-height: 1; border-radius: 0.35em;\">\n",
       "    She\n",
       "    <span style=\"font-size: 0.8em; font-weight: bold; line-height: 1; border-radius: 0.35em; vertical-align: middle; margin-left: 0.5rem\">WOMAN</span>\n",
       "</mark>\n",
       " is here.</div></span>"
      ],
      "text/plain": [
       "<IPython.core.display.HTML object>"
      ]
     },
     "metadata": {},
     "output_type": "display_data"
    }
   ],
   "source": [
    "def woman_finder(doc):\n",
    "    for token in doc:\n",
    "        if token.text.lower() in [\"mrs.\", \"miss.\", \"mrs\", \"miss\", \"her\", \"hers\", \"she\"]:\n",
    "            x=0\n",
    "            for token2 in doc[token.i:token.i+5]:\n",
    "                if token2.text[0].isupper() or token2.text[0] ==\"-\":\n",
    "                    x=x+1\n",
    "            yield token.i, token.i+x, \"WOMAN\"\n",
    "            \n",
    "lf1 = heuristics.FunctionAnnotator(\"woman\", woman_finder)\n",
    "\n",
    "doc = nlp(\"Mrs. Channel Darcy-Derby is here. Miss Smith is not, though. She is here.\")\n",
    "doc = lf1(doc)\n",
    "# create and fit the HMM aggregation model\n",
    "hmm = generative.HMM(\"hmm\", [\"WOMAN\"])\n",
    "hmm.fit()\n",
    "\n",
    "# once fitted, we simply apply the model to aggregate all functions\n",
    "doc = hmm(doc)\n",
    "\n",
    "# we can then visualise the final result (in Jupyter)\n",
    "utils.display_entities(doc, \"hmm\")"
   ]
  },
  {
   "cell_type": "code",
   "execution_count": null,
   "id": "12a77d81-8d71-4b4e-818f-00619ab148ca",
   "metadata": {},
   "outputs": [],
   "source": []
  }
 ],
 "metadata": {
  "kernelspec": {
   "display_name": "Python 3 (ipykernel)",
   "language": "python",
   "name": "python3"
  },
  "language_info": {
   "codemirror_mode": {
    "name": "ipython",
    "version": 3
   },
   "file_extension": ".py",
   "mimetype": "text/x-python",
   "name": "python",
   "nbconvert_exporter": "python",
   "pygments_lexer": "ipython3",
   "version": "3.8.5"
  }
 },
 "nbformat": 4,
 "nbformat_minor": 5
}
