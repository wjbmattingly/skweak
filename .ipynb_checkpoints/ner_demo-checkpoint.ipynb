{
 "cells": [
  {
   "cell_type": "code",
   "execution_count": null,
   "id": "e5025197-bc22-4f59-aa57-bf65acb5d428",
   "metadata": {},
   "outputs": [],
   "source": []
  },
  {
   "cell_type": "code",
   "execution_count": 2,
   "id": "f73a9a34-a990-4ab0-9cbe-fca79e738f02",
   "metadata": {},
   "outputs": [],
   "source": [
    "#ModelAnnotator"
   ]
  },
  {
   "cell_type": "code",
   "execution_count": 3,
   "id": "002d2479-e1c6-4170-b64c-7aee2037cebf",
   "metadata": {},
   "outputs": [],
   "source": [
    "#GazateerAnnotator"
   ]
  },
  {
   "cell_type": "code",
   "execution_count": 4,
   "id": "f040a808-de8d-4015-9337-19bee07a2885",
   "metadata": {},
   "outputs": [],
   "source": [
    "#FunctionAnnotator"
   ]
  },
  {
   "cell_type": "code",
   "execution_count": 5,
   "id": "005c18e7-e83a-45af-afad-63e1edf94190",
   "metadata": {},
   "outputs": [],
   "source": [
    "#TokenConstraintAnnotator"
   ]
  },
  {
   "cell_type": "code",
   "execution_count": 6,
   "id": "8e41d95e-a494-42ff-84f0-ab2ba426fa05",
   "metadata": {},
   "outputs": [],
   "source": [
    "#SpanConstraintAnnotator"
   ]
  },
  {
   "cell_type": "code",
   "execution_count": 7,
   "id": "1e07b4ce-376e-497e-89b9-f9a43dd96141",
   "metadata": {},
   "outputs": [],
   "source": [
    "#SnipsAnnotator"
   ]
  },
  {
   "cell_type": "code",
   "execution_count": null,
   "id": "532d0563-4b4d-4c57-8776-f02bc841bb2a",
   "metadata": {},
   "outputs": [],
   "source": []
  }
 ],
 "metadata": {
  "kernelspec": {
   "display_name": "Python 3 (ipykernel)",
   "language": "python",
   "name": "python3"
  },
  "language_info": {
   "codemirror_mode": {
    "name": "ipython",
    "version": 3
   },
   "file_extension": ".py",
   "mimetype": "text/x-python",
   "name": "python",
   "nbconvert_exporter": "python",
   "pygments_lexer": "ipython3",
   "version": "3.9.12"
  }
 },
 "nbformat": 4,
 "nbformat_minor": 5
}
