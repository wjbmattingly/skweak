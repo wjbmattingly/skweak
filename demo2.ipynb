{
 "cells": [
  {
   "cell_type": "code",
   "execution_count": 25,
   "id": "fea70870-09b4-42cf-8eb6-20edb7370f01",
   "metadata": {},
   "outputs": [],
   "source": [
    "import tarfile\n",
    "import skweak\n",
    "import spacy"
   ]
  },
  {
   "cell_type": "code",
   "execution_count": 18,
   "id": "d1f2bd81-19f8-4fb7-8be4-60fb93647641",
   "metadata": {},
   "outputs": [
    {
     "name": "stdout",
     "output_type": "stream",
     "text": [
      "195\n"
     ]
    }
   ],
   "source": [
    "# We retrieve the texts\n",
    "texts = [] \n",
    "archive_file = tarfile.open(\"data/reuters_small.tar.gz\")\n",
    "for archive_member in archive_file.getnames():\n",
    "    if archive_member.endswith(\".txt\"):\n",
    "        text = archive_file.extractfile(archive_member).read().decode(\"utf8\")\n",
    "        texts.append(text)\n",
    "print (len(texts))"
   ]
  },
  {
   "cell_type": "code",
   "execution_count": 26,
   "id": "44f7a595-caab-4b13-8cd0-9eac7373c954",
   "metadata": {},
   "outputs": [],
   "source": [
    "# We run spacy on the texts    \n",
    "nlp = spacy.load(\"en_core_web_sm\", disable=[\"ner\", \"lemmatizer\"])\n",
    "docs = list(nlp.pipe(texts))"
   ]
  },
  {
   "cell_type": "code",
   "execution_count": 27,
   "id": "db6bb159-948c-4726-9fe3-b2fc18b03175",
   "metadata": {},
   "outputs": [
    {
     "data": {
      "text/html": [
       "<span class=\"tex2jax_ignore\"><div class=\"entities\" style=\"line-height: 2.5; direction: ltr\">N.Y. judge restrains Merkin funds in Madoff lawsuit</br>NEW YORK (Reuters) - A judge extended an order on Tuesday barring hedge fund founder Ezra Merkin from shutting down funds that had invested with accused swindler Bernard Madoff or withdrawing money from them. New York State Supreme Court Justice Richard Lowe issued the extension in a lawsuit brought on December 23 by New York University, which says it lost $24 million when funds run by Merkin invested money with Madoff without its consent. Another judge issued the initial order on December 24 to stop Merkin from liquidating \n",
       "<mark class=\"entity\" style=\"background: #ddd; padding: 0.45em 0.6em; margin: 0 0.25em; line-height: 1; border-radius: 0.35em;\">\n",
       "    Ariel Fund Ltd\n",
       "    <span style=\"font-size: 0.8em; font-weight: bold; line-height: 1; border-radius: 0.35em; vertical-align: middle; margin-left: 0.5rem\">COMPANY</span>\n",
       "</mark>\n",
       ", named in the lawsuit by the university along with Merkin and his Gabriel Capital Corp. The initial order expired on Tuesday. Madoff, an investment adviser, is accused of running a $50 billion securities fraud over many years. &quot;Until December 12, 2008, we had no knowledge that NYU's funds were instead being managed by Bernard Madoff,&quot; said an affidavit filed with the court by NYU chief investment officer Maurice Maertens. &quot;None of the documents we received throughout the years from Gabriel or Ariel ever stated that Mr Madoff was managing NYU's assets.&quot; Merkin's lawyer, Andrew Levander, said in a statement that his client &quot;has always acted in good faith and did not deceive NYU or any other investors.&quot; Merkin's personal losses from the purported fraud &quot;are in the many tens of millions of dollars...He shares the sorrow of all investors who have been cheated by Madoff,&quot; the statement said. NYU claims the title as the largest private U.S. university and is among several institutions and individual investors seeking to recover losses. Merkin is chairman of GMAC, the finance business owned by \n",
       "<mark class=\"entity\" style=\"background: #ddd; padding: 0.45em 0.6em; margin: 0 0.25em; line-height: 1; border-radius: 0.35em;\">\n",
       "    General Motors Corp\n",
       "    <span style=\"font-size: 0.8em; font-weight: bold; line-height: 1; border-radius: 0.35em; vertical-align: middle; margin-left: 0.5rem\">COMPANY</span>\n",
       "</mark>\n",
       " ( GM.N ) and private equity firm Cerberus Capital Management LP CBS.UL. The U.S. Treasury gave GMAC $5 billion from its $700 billion Troubled Asset Relief Program on December 29. Five days earlier, the Federal Reserve granted GMAC bank holding company status so it could get access to the bailout money. Merkin has also been sued in U.S. District Court in Manhattan for his management of Ascot Partners LLP, a fund he founded that lost an estimated $1.8 billion with Madoff. Madoff, 70, was arrested on December 11 and charged with securities fraud. He is under house arrest in his Manhattan apartment on $10 million bail. On Monday, U.S. prosecutors sought to jail him, saying he had mailed jewelry and other valuables to family and friends in violation of a court order freezing all his belongings. A judge has not yet issued a ruling on the government's request. The case is New York University v. \n",
       "<mark class=\"entity\" style=\"background: #ddd; padding: 0.45em 0.6em; margin: 0 0.25em; line-height: 1; border-radius: 0.35em;\">\n",
       "    Ariel Fund Ltd\n",
       "    <span style=\"font-size: 0.8em; font-weight: bold; line-height: 1; border-radius: 0.35em; vertical-align: middle; margin-left: 0.5rem\">COMPANY</span>\n",
       "</mark>\n",
       " 08- 08603803 in New York State Supreme Court (Manhattan) </div></span>"
      ],
      "text/plain": [
       "<IPython.core.display.HTML object>"
      ]
     },
     "metadata": {},
     "output_type": "display_data"
    }
   ],
   "source": [
    "def company_detector_fun(doc):\n",
    "    for chunk in doc.noun_chunks:\n",
    "        if chunk[-1].lower_.rstrip(\".\") in {'corp', 'inc', 'ltd', 'llc', 'sa', 'ag'}:\n",
    "            yield chunk.start, chunk.end, \"COMPANY\"\n",
    "\n",
    "# We create the labelling function by giving it a name, and a function to apply\n",
    "company_detector = skweak.heuristics.FunctionAnnotator(\"company_detector\", company_detector_fun)\n",
    "\n",
    "# We run the function on the full corpus\n",
    "docs = list(company_detector.pipe(docs))\n",
    "\n",
    "# Show an example\n",
    "skweak.utils.display_entities(docs[28], \"company_detector\")"
   ]
  },
  {
   "cell_type": "code",
   "execution_count": null,
   "id": "dc3e655a-f502-4422-9416-e7054956dbff",
   "metadata": {},
   "outputs": [],
   "source": []
  }
 ],
 "metadata": {
  "kernelspec": {
   "display_name": "Python 3 (ipykernel)",
   "language": "python",
   "name": "python3"
  },
  "language_info": {
   "codemirror_mode": {
    "name": "ipython",
    "version": 3
   },
   "file_extension": ".py",
   "mimetype": "text/x-python",
   "name": "python",
   "nbconvert_exporter": "python",
   "pygments_lexer": "ipython3",
   "version": "3.9.12"
  }
 },
 "nbformat": 4,
 "nbformat_minor": 5
}
